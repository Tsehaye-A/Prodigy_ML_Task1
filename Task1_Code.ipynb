{
 "cells": [
  {
   "cell_type": "markdown",
   "metadata": {},
   "source": [
    "# Prodigy ML Task 1 – Linear Regression\n",
    "\n",
    "**Goal**: Predict `SalePrice` using **GrLivArea**, **BedroomAbvGr**, and **TotalBath**.\n",
    "\n",
    "---"
   ]
  },
  {
   "cell_type": "code",
   "execution_count": null,
   "metadata": {},
   "outputs": [],
   "source": [
    "import numpy as np\n",
    "import pandas as pd\n",
    "import matplotlib.pyplot as plt\n",
    "import seaborn as sns\n",
    "from sklearn.model_selection import train_test_split\n",
    "from sklearn.linear_model import LinearRegression\n",
    "from sklearn.metrics import mean_squared_error, r2_score, mean_absolute_error\n",
    "\n",
    "%matplotlib inline\n",
    "sns.set(style='whitegrid')"
   ]
  },
  {
   "cell_type": "markdown",
   "metadata": {},
   "source": [
    "## 1. Load & Inspect Data"
   ]
  },
  {
   "cell_type": "code",
   "execution_count": null,
   "metadata": {},
   "outputs": [],
   "source": [
    "df = pd.read_csv('dataset.csv')\n",
    "print('Shape:', df.shape)\n",
    "df[['GrLivArea','BedroomAbvGr','FullBath','HalfBath','SalePrice']].head()"
   ]
  },
  {
   "cell_type": "markdown",
   "metadata": {},
   "source": [
    "## 2. Feature Engineering"
   ]
  },
  {
   "cell_type": "code",
   "execution_count": null,
   "metadata": {},
   "outputs": [],
   "source": [
    "# Total bathrooms (full = 1, half = 0.5)\n",
    "df['TotalBath'] = df['FullBath'] + 0.5 * df['HalfBath']\n",
    "\n",
    "# Select features + target\n",
    "features = ['GrLivArea', 'BedroomAbvGr', 'TotalBath']\n",
    "X = df[features]\n",
    "y = df['SalePrice']"
   ]
  },
  {
   "cell_type": "markdown",
   "metadata": {},
   "source": [
    "## 3. Train-Test Split"
   ]
  },
  {
   "cell_type": "code",
   "execution_count": null,
   "metadata": {},
   "outputs": [],
   "source": [
    "X_train, X_test, y_train, y_test = train_test_split(\n",
    "    X, y, test_size=0.2, random_state=42\n",
    ")\n",
    "print(f'Train: {X_train.shape[0]}, Test: {X_test.shape[0]}')"
   ]
  },
  {
   "cell_type": "markdown",
   "metadata": {},
   "source": [
    "## 4. Train Linear Regression"
   ]
  },
  {
   "cell_type": "code",
   "execution_count": null,
   "metadata": {},
   "outputs": [],
   "source": [
    "model = LinearRegression()\n",
    "model.fit(X_train, y_train)\n",
    "y_pred = model.predict(X_test)\n",
    "\n",
    "# Coefficients\n",
    "coeffs = pd.Series(model.coef_, index=features)\n",
    "intercept = model.intercept_\n",
    "print('Intercept:', intercept)\n",
    "print('Coefficients:\\n', coeffs)"
   ]
  },
  {
   "cell_type": "markdown",
   "metadata": {},
   "source": [
    "## 5. Evaluation"
   ]
  },
  {
   "cell_type": "code",
   "execution_count": null,
   "metadata": {},
   "outputs": [],
   "source": [
    "rmse = np.sqrt(mean_squared_error(y_test, y_pred))\n",
    "mae  = mean_absolute_error(y_test, y_pred)\n",
    "r2   = r2_score(y_test, y_pred)\n",
    "\n",
    "print(f'R²  : {r2:.4f}')\n",
    "print(f'RMSE: ${rmse:,.0f}')\n",
    "print(f'MAE : ${mae:,.0f}')"
   ]
  },
  {
   "cell_type": "markdown",
   "metadata": {},
   "source": [
    "## 6. Visualizations"
   ]
  },
  {
   "cell_type": "code",
   "execution_count": null,
   "metadata": {},
   "outputs": [],
   "source": [
    "fig, axes = plt.subplots(1, 3, figsize=(18,5))\n",
    "\n",
    "# 1. Actual vs Predicted\n",
    "sns.scatterplot(x=y_test, y=y_pred, ax=axes[0])\n",
    "axes[0].plot([y_test.min(), y_test.max()], [y_test.min(), y_test.max()], 'r--')\n",
    "axes[0].set_xlabel('Actual Price')\n",
    "axes[0].set_ylabel('Predicted Price')\n",
    "axes[0].set_title('Actual vs Predicted')\n",
    "\n",
    "# 2. Residuals\n",
    "residuals = y_test - y_pred\n",
    "sns.scatterplot(x=y_pred, y=residuals, ax=axes[1])\n",
    "axes[1].axhline(0, color='r', linestyle='--')\n",
    "axes[1].set_xlabel('Predicted Price')\n",
    "axes[1].set_ylabel('Residual')\n",
    "axes[1].set_title('Residual Plot')\n",
    "\n",
    "# 3. Correlation heatmap\n",
    "corr = df[features + ['SalePrice']].corr()\n",
    "sns.heatmap(corr, annot=True, cmap='coolwarm', ax=axes[2])\n",
    "axes[2].set_title('Feature Correlations')\n",
    "\n",
    "plt.tight_layout()\n",
    "plt.savefig('model_plots.png', dpi=300, bbox_inches='tight')\n",
    "plt.show()"
   ]
  },
  {
   "cell_type": "markdown",
   "metadata": {},
   "source": [
    "---\n",
    "**End of Notebook** – `model_plots.png` is saved in the repo."
   ]
  }
 ],
 "metadata": {
  "kernelspec": {
   "display_name": "Python 3",
   "language": "python",
   "name": "python3"
  },
  "language_info": {
   "name": "python",
   "version": "3.11"
  }
 },
 "nbformat": 4,
 "nbformat_minor": 5
}
